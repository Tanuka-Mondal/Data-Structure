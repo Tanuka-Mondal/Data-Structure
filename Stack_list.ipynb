{
  "nbformat": 4,
  "nbformat_minor": 0,
  "metadata": {
    "colab": {
      "name": "Stack_list.ipynb",
      "provenance": [],
      "authorship_tag": "ABX9TyMLDudecC5dqfq3gdGoKJNy",
      "include_colab_link": true
    },
    "kernelspec": {
      "name": "python3",
      "display_name": "Python 3"
    },
    "language_info": {
      "name": "python"
    }
  },
  "cells": [
    {
      "cell_type": "markdown",
      "metadata": {
        "id": "view-in-github",
        "colab_type": "text"
      },
      "source": [
        "<a href=\"https://colab.research.google.com/github/Tanuka-Mondal/Data-Structure/blob/main/Stack_list.ipynb\" target=\"_parent\"><img src=\"https://colab.research.google.com/assets/colab-badge.svg\" alt=\"Open In Colab\"/></a>"
      ]
    },
    {
      "cell_type": "code",
      "execution_count": 1,
      "metadata": {
        "id": "eAl5nuTFnBHq"
      },
      "outputs": [],
      "source": [
        "stack = []"
      ]
    },
    {
      "cell_type": "code",
      "source": [
        "stack.append(10)\n",
        "stack"
      ],
      "metadata": {
        "colab": {
          "base_uri": "https://localhost:8080/"
        },
        "id": "IteE8FionGGr",
        "outputId": "dd8a9678-3ca8-4519-c77d-b44e1c421ae2"
      },
      "execution_count": 2,
      "outputs": [
        {
          "output_type": "execute_result",
          "data": {
            "text/plain": [
              "[10]"
            ]
          },
          "metadata": {},
          "execution_count": 2
        }
      ]
    },
    {
      "cell_type": "code",
      "source": [
        "stack.append(20)\n",
        "stack.append(30)"
      ],
      "metadata": {
        "id": "sujRfyM8nMpK"
      },
      "execution_count": 3,
      "outputs": []
    },
    {
      "cell_type": "code",
      "source": [
        "stack"
      ],
      "metadata": {
        "colab": {
          "base_uri": "https://localhost:8080/"
        },
        "id": "AxkizZLnnUtr",
        "outputId": "cd183c48-ef41-4ef7-fc1e-07acdeb6e376"
      },
      "execution_count": 4,
      "outputs": [
        {
          "output_type": "execute_result",
          "data": {
            "text/plain": [
              "[10, 20, 30]"
            ]
          },
          "metadata": {},
          "execution_count": 4
        }
      ]
    },
    {
      "cell_type": "code",
      "source": [
        "stack.pop()"
      ],
      "metadata": {
        "colab": {
          "base_uri": "https://localhost:8080/"
        },
        "id": "lDylaO7RnVbu",
        "outputId": "7ac0bc49-15b8-4150-f37e-784865173af4"
      },
      "execution_count": 5,
      "outputs": [
        {
          "output_type": "execute_result",
          "data": {
            "text/plain": [
              "30"
            ]
          },
          "metadata": {},
          "execution_count": 5
        }
      ]
    },
    {
      "cell_type": "code",
      "source": [
        "stack"
      ],
      "metadata": {
        "colab": {
          "base_uri": "https://localhost:8080/"
        },
        "id": "5_D_SNlTna5q",
        "outputId": "ed64d1d6-3e6d-4101-87b1-2b417076fb63"
      },
      "execution_count": 6,
      "outputs": [
        {
          "output_type": "execute_result",
          "data": {
            "text/plain": [
              "[10, 20]"
            ]
          },
          "metadata": {},
          "execution_count": 6
        }
      ]
    },
    {
      "cell_type": "code",
      "source": [
        "stack.pop()"
      ],
      "metadata": {
        "colab": {
          "base_uri": "https://localhost:8080/"
        },
        "id": "6cwIe6r3ncei",
        "outputId": "f1f96d6a-1c86-4b4f-d522-67b4079d3ea4"
      },
      "execution_count": 7,
      "outputs": [
        {
          "output_type": "execute_result",
          "data": {
            "text/plain": [
              "20"
            ]
          },
          "metadata": {},
          "execution_count": 7
        }
      ]
    },
    {
      "cell_type": "code",
      "source": [
        "stack"
      ],
      "metadata": {
        "colab": {
          "base_uri": "https://localhost:8080/"
        },
        "id": "5BVqtVpLneOC",
        "outputId": "26931141-9a4d-4429-85cf-b84469e46682"
      },
      "execution_count": 8,
      "outputs": [
        {
          "output_type": "execute_result",
          "data": {
            "text/plain": [
              "[10]"
            ]
          },
          "metadata": {},
          "execution_count": 8
        }
      ]
    },
    {
      "cell_type": "code",
      "source": [
        "stack.pop()"
      ],
      "metadata": {
        "colab": {
          "base_uri": "https://localhost:8080/"
        },
        "id": "clJNFUP9nfKU",
        "outputId": "9edc4959-5bee-457e-a1dd-d53635cb5690"
      },
      "execution_count": 9,
      "outputs": [
        {
          "output_type": "execute_result",
          "data": {
            "text/plain": [
              "10"
            ]
          },
          "metadata": {},
          "execution_count": 9
        }
      ]
    },
    {
      "cell_type": "code",
      "source": [
        "stack.pop()"
      ],
      "metadata": {
        "colab": {
          "base_uri": "https://localhost:8080/",
          "height": 172
        },
        "id": "PdmnUdZqngmJ",
        "outputId": "2269033e-c74d-4824-a141-a2193c00ba27"
      },
      "execution_count": 10,
      "outputs": [
        {
          "output_type": "error",
          "ename": "IndexError",
          "evalue": "ignored",
          "traceback": [
            "\u001b[0;31m---------------------------------------------------------------------------\u001b[0m",
            "\u001b[0;31mIndexError\u001b[0m                                Traceback (most recent call last)",
            "\u001b[0;32m<ipython-input-10-415460d3b717>\u001b[0m in \u001b[0;36m<module>\u001b[0;34m()\u001b[0m\n\u001b[0;32m----> 1\u001b[0;31m \u001b[0mstack\u001b[0m\u001b[0;34m.\u001b[0m\u001b[0mpop\u001b[0m\u001b[0;34m(\u001b[0m\u001b[0;34m)\u001b[0m\u001b[0;34m\u001b[0m\u001b[0;34m\u001b[0m\u001b[0m\n\u001b[0m",
            "\u001b[0;31mIndexError\u001b[0m: pop from empty list"
          ]
        }
      ]
    },
    {
      "cell_type": "code",
      "source": [
        "len(stack)==0 #check whether stack is empty"
      ],
      "metadata": {
        "colab": {
          "base_uri": "https://localhost:8080/"
        },
        "id": "dnd4Xvmgnj9J",
        "outputId": "f7587483-2eaf-4597-8cf2-e998eca4f886"
      },
      "execution_count": 11,
      "outputs": [
        {
          "output_type": "execute_result",
          "data": {
            "text/plain": [
              "True"
            ]
          },
          "metadata": {},
          "execution_count": 11
        }
      ]
    },
    {
      "cell_type": "code",
      "source": [
        "not stack #check whether stack is empty"
      ],
      "metadata": {
        "colab": {
          "base_uri": "https://localhost:8080/"
        },
        "id": "2MsNLP-in1S2",
        "outputId": "da3a72c6-0a60-4d7b-b104-568cd6f44f70"
      },
      "execution_count": 12,
      "outputs": [
        {
          "output_type": "execute_result",
          "data": {
            "text/plain": [
              "True"
            ]
          },
          "metadata": {},
          "execution_count": 12
        }
      ]
    },
    {
      "cell_type": "code",
      "source": [
        "stack.append(5)\n",
        "stack.append(10)\n",
        "stack.append(15)"
      ],
      "metadata": {
        "id": "3UqQf8rkn3Sc"
      },
      "execution_count": 13,
      "outputs": []
    },
    {
      "cell_type": "code",
      "source": [
        "stack"
      ],
      "metadata": {
        "colab": {
          "base_uri": "https://localhost:8080/"
        },
        "id": "4fAWTT2MoJCn",
        "outputId": "b4c4280f-26eb-44e4-cb0d-68774d7a7e27"
      },
      "execution_count": 14,
      "outputs": [
        {
          "output_type": "execute_result",
          "data": {
            "text/plain": [
              "[5, 10, 15]"
            ]
          },
          "metadata": {},
          "execution_count": 14
        }
      ]
    },
    {
      "cell_type": "code",
      "source": [
        "stack[-1] #access top element"
      ],
      "metadata": {
        "colab": {
          "base_uri": "https://localhost:8080/"
        },
        "id": "_DTQwriEoJzi",
        "outputId": "e0685a60-a80b-4672-ca7e-047ccb27104f"
      },
      "execution_count": 15,
      "outputs": [
        {
          "output_type": "execute_result",
          "data": {
            "text/plain": [
              "15"
            ]
          },
          "metadata": {},
          "execution_count": 15
        }
      ]
    },
    {
      "cell_type": "code",
      "source": [
        "stack = []\n",
        "def push_num():\n",
        "  num = input(\"Enter num: \")\n",
        "  stack.append(num)\n",
        "  print(stack)\n",
        "\n",
        "def pop_num():\n",
        "  if not stack:\n",
        "    print(\"stack is empty\")  \n",
        "  else:\n",
        "    d = stack.pop()\n",
        "    print(\"deleted element:\",d)\n",
        "    print(stack)\n",
        "\n",
        "while True:\n",
        "  print(\"Select the operation: 1.push, 2.pop, 3.quit\")  \n",
        "  choice=int(input())    \n",
        "  if choice == 1:\n",
        "    push_num()\n",
        "  elif choice == 2:\n",
        "    pop_num()\n",
        "  elif choice == 3:\n",
        "    break\n",
        "  else:\n",
        "    print(\"Choose correct option\")      "
      ],
      "metadata": {
        "colab": {
          "base_uri": "https://localhost:8080/"
        },
        "id": "-_HY6oYFoPBP",
        "outputId": "74a91f3c-5966-4928-f87b-fc4f95bbd4bf"
      },
      "execution_count": 19,
      "outputs": [
        {
          "name": "stdout",
          "output_type": "stream",
          "text": [
            "Select the operation: 1.push, 2.pop, 3.quit\n",
            "1\n",
            "Enter num: 56\n",
            "['56']\n",
            "Select the operation: 1.push, 2.pop, 3.quit\n",
            "1\n",
            "Enter num: 75\n",
            "['56', '75']\n",
            "Select the operation: 1.push, 2.pop, 3.quit\n",
            "1\n",
            "Enter num: 38\n",
            "['56', '75', '38']\n",
            "Select the operation: 1.push, 2.pop, 3.quit\n",
            "2\n",
            "deleted element: 38\n",
            "['56', '75']\n",
            "Select the operation: 1.push, 2.pop, 3.quit\n",
            "2\n",
            "deleted element: 75\n",
            "['56']\n",
            "Select the operation: 1.push, 2.pop, 3.quit\n",
            "2\n",
            "deleted element: 56\n",
            "[]\n",
            "Select the operation: 1.push, 2.pop, 3.quit\n",
            "2\n",
            "stack is empty\n",
            "Select the operation: 1.push, 2.pop, 3.quit\n",
            "4\n",
            "Choose correct option\n",
            "Select the operation: 1.push, 2.pop, 3.quit\n",
            "3\n"
          ]
        }
      ]
    },
    {
      "cell_type": "code",
      "source": [
        "stack = []\n",
        "def push_num():\n",
        "  if len(stack)==n:\n",
        "    print(\"Stack is full\")\n",
        "  else:\n",
        "    num = input(\"Enter num: \")\n",
        "    stack.append(num)\n",
        "    print(stack)  \n",
        "\n",
        "def pop_num():\n",
        "  if not stack:\n",
        "    print(\"stack is empty\")  \n",
        "  else:\n",
        "    d = stack.pop()\n",
        "    print(\"deleted element:\",d)\n",
        "    print(stack)\n",
        "\n",
        "n = int(input(\"How many elements in stack: \"))\n",
        "while True:\n",
        "  print(\"Select the operation: 1.push, 2.pop, 3.quit\")  \n",
        "  choice=int(input())    \n",
        "  if choice == 1:\n",
        "    push_num()\n",
        "  elif choice == 2:\n",
        "    pop_num()\n",
        "  elif choice == 3:\n",
        "    break\n",
        "  else:\n",
        "    print(\"Choose correct option\") "
      ],
      "metadata": {
        "colab": {
          "base_uri": "https://localhost:8080/"
        },
        "id": "tvxYXPrirvmV",
        "outputId": "56aee5a5-6118-4e3a-d9e4-9474643c3a8e"
      },
      "execution_count": 22,
      "outputs": [
        {
          "name": "stdout",
          "output_type": "stream",
          "text": [
            "How many elements in stack: 2\n",
            "Select the operation: 1.push, 2.pop, 3.quit\n",
            "1\n",
            "Enter num: 12\n",
            "['12']\n",
            "Select the operation: 1.push, 2.pop, 3.quit\n",
            "1\n",
            "Enter num: 23\n",
            "['12', '23']\n",
            "Select the operation: 1.push, 2.pop, 3.quit\n",
            "1\n",
            "Stack is full\n",
            "Select the operation: 1.push, 2.pop, 3.quit\n",
            "2\n",
            "deleted element: 23\n",
            "['12']\n",
            "Select the operation: 1.push, 2.pop, 3.quit\n",
            "2\n",
            "deleted element: 12\n",
            "[]\n",
            "Select the operation: 1.push, 2.pop, 3.quit\n",
            "2\n",
            "stack is empty\n",
            "Select the operation: 1.push, 2.pop, 3.quit\n",
            "3\n"
          ]
        }
      ]
    }
  ]
}