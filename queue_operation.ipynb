{
  "nbformat": 4,
  "nbformat_minor": 0,
  "metadata": {
    "colab": {
      "name": "queue_operation.ipynb",
      "provenance": [],
      "authorship_tag": "ABX9TyOkZ1svyjNwyT/2UFjKJDdg",
      "include_colab_link": true
    },
    "kernelspec": {
      "name": "python3",
      "display_name": "Python 3"
    },
    "language_info": {
      "name": "python"
    }
  },
  "cells": [
    {
      "cell_type": "markdown",
      "metadata": {
        "id": "view-in-github",
        "colab_type": "text"
      },
      "source": [
        "<a href=\"https://colab.research.google.com/github/Tanuka-Mondal/Data-Structure/blob/main/queue_operation.ipynb\" target=\"_parent\"><img src=\"https://colab.research.google.com/assets/colab-badge.svg\" alt=\"Open In Colab\"/></a>"
      ]
    },
    {
      "cell_type": "code",
      "execution_count": 2,
      "metadata": {
        "colab": {
          "base_uri": "https://localhost:8080/"
        },
        "id": "VQiHe1srtMbu",
        "outputId": "3d7fa4b9-4078-46e0-f05a-7afb07355179"
      },
      "outputs": [
        {
          "name": "stdout",
          "output_type": "stream",
          "text": [
            "Select the operation: 1.add, 2.remove, 3.show, 4.quit\n",
            "1\n",
            "Enter num: 2\n",
            "['2']\n",
            "Select the operation: 1.add, 2.remove, 3.show, 4.quit\n",
            "1\n",
            "Enter num: 6\n",
            "['2', '6']\n",
            "Select the operation: 1.add, 2.remove, 3.show, 4.quit\n",
            "1\n",
            "Enter num: 8\n",
            "['2', '6', '8']\n",
            "Select the operation: 1.add, 2.remove, 3.show, 4.quit\n",
            "2\n",
            "deleted element: 2\n",
            "['6', '8']\n",
            "Select the operation: 1.add, 2.remove, 3.show, 4.quit\n",
            "1\n",
            "Enter num: 10\n",
            "['6', '8', '10']\n",
            "Select the operation: 1.add, 2.remove, 3.show, 4.quit\n",
            "2\n",
            "deleted element: 6\n",
            "['8', '10']\n",
            "Select the operation: 1.add, 2.remove, 3.show, 4.quit\n",
            "3\n",
            "['8', '10']\n",
            "Select the operation: 1.add, 2.remove, 3.show, 4.quit\n",
            "4\n"
          ]
        }
      ],
      "source": [
        "queue = []\n",
        "def enqueue():\n",
        "  num = input(\"Enter num: \")\n",
        "  queue.append(num)\n",
        "  print(queue)\n",
        "\n",
        "def dequeue():\n",
        "  if not queue:\n",
        "    print(\"queue is empty\")  \n",
        "  else:\n",
        "    d = queue.pop(0)\n",
        "    print(\"deleted element:\",d)\n",
        "    print(queue)\n",
        "\n",
        "def display():\n",
        "  print(queue)\n",
        "\n",
        "while True:\n",
        "  print(\"Select the operation: 1.add, 2.remove, 3.show, 4.quit\")  \n",
        "  choice=int(input())    \n",
        "  if choice == 1:\n",
        "    enqueue()\n",
        "  elif choice == 2:\n",
        "    dequeue()\n",
        "  elif choice == 3:\n",
        "    display()\n",
        "  elif choice == 4:\n",
        "    break\n",
        "  else:\n",
        "    print(\"Choose correct option\") "
      ]
    }
  ]
}